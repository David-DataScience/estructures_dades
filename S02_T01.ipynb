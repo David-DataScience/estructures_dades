{
 "cells": [
  {
   "cell_type": "markdown",
   "id": "f4b28811",
   "metadata": {},
   "source": [
    "# Nivell 1\n",
    "## Exercici 1:\n",
    "Crea una llista que agrupi els mesos de l’any en trimestres (1T: Gener, Febrer i Març, 2T: Abril, Maig, Juny...), és a dir, una llista amb 4 llistes dins."
   ]
  },
  {
   "cell_type": "code",
   "execution_count": 126,
   "id": "ec6d34a0",
   "metadata": {},
   "outputs": [],
   "source": [
    "trimestre1 = [\"gener\", \"febrer\", \"març\"]\n",
    "trimestre2 = [\"abril\", \"maig\", \"juny\"]\n",
    "trimestre3 = [\"juliol\", \"agost\", \"setembre\"]\n",
    "trimestre4 = [\"octubre\", \"novembre\", \"desembre\"]\n",
    "mesos = [trimestre1 , trimestre2, trimestre3, trimestre4]"
   ]
  },
  {
   "cell_type": "markdown",
   "id": "18501ae8",
   "metadata": {},
   "source": [
    "## Exercici 2:\n",
    "Crea un codi que et permeti accedir a:\n",
    "+ El segon mes del primer trimestre\n"
   ]
  },
  {
   "cell_type": "code",
   "execution_count": 120,
   "id": "0c58bfae",
   "metadata": {},
   "outputs": [
    {
     "name": "stdout",
     "output_type": "stream",
     "text": [
      "febrer\n"
     ]
    }
   ],
   "source": [
    "print(mesos[0][1])"
   ]
  },
  {
   "cell_type": "markdown",
   "id": "72da647e",
   "metadata": {},
   "source": [
    "+ Els mesos del primer trimestre\n"
   ]
  },
  {
   "cell_type": "code",
   "execution_count": 128,
   "id": "39b61be0",
   "metadata": {
    "scrolled": true
   },
   "outputs": [
    {
     "name": "stdout",
     "output_type": "stream",
     "text": [
      "gener, febrer i març\n"
     ]
    }
   ],
   "source": [
    "print(mesos[0][0]+\", \"+mesos[0][1]+\" i \"+mesos[0][2])"
   ]
  },
  {
   "cell_type": "markdown",
   "id": "abef47c0",
   "metadata": {},
   "source": [
    "+ Setembre i octubre"
   ]
  },
  {
   "cell_type": "code",
   "execution_count": 140,
   "id": "c0930f72",
   "metadata": {},
   "outputs": [
    {
     "name": "stdout",
     "output_type": "stream",
     "text": [
      "setembre i octubre\n"
     ]
    }
   ],
   "source": [
    "print(mesos[2][2]+\" i \"+ mesos[3][0])"
   ]
  },
  {
   "cell_type": "markdown",
   "id": "54cc6734",
   "metadata": {},
   "source": [
    "## Exercici 3:\n",
    "\n",
    "Crea una llista amb nombres desordenats i respon a les següents preguntes:\n",
    "\n",
    "\n"
   ]
  },
  {
   "cell_type": "code",
   "execution_count": 141,
   "id": "58b9cefe",
   "metadata": {},
   "outputs": [],
   "source": [
    "numeros = [1, 7, 24, 3, 7, 80, 54, 9, 17, 6, 5, 4, 49, 11, 3]"
   ]
  },
  {
   "cell_type": "markdown",
   "id": "b4a56afa",
   "metadata": {},
   "source": [
    "+ Quants números hi ha?"
   ]
  },
  {
   "cell_type": "code",
   "execution_count": 142,
   "id": "da03633d",
   "metadata": {},
   "outputs": [
    {
     "name": "stdout",
     "output_type": "stream",
     "text": [
      "quantitat de números: 15\n"
     ]
    }
   ],
   "source": [
    "print('quantitat de números:',len(numeros))"
   ]
  },
  {
   "cell_type": "markdown",
   "id": "c3bd7cdc",
   "metadata": {},
   "source": [
    "+ Quantes vegades apareix el número 3"
   ]
  },
  {
   "cell_type": "code",
   "execution_count": 143,
   "id": "ceeb425d",
   "metadata": {},
   "outputs": [
    {
     "name": "stdout",
     "output_type": "stream",
     "text": [
      "el número 3 apareix  2  vegades\n"
     ]
    }
   ],
   "source": [
    "print('el número 3 apareix ',numeros.count(3),' vegades')"
   ]
  },
  {
   "cell_type": "markdown",
   "id": "be1a0108",
   "metadata": {},
   "source": [
    "+ Quantes vegades apareixen els nombres 3 i 4?"
   ]
  },
  {
   "cell_type": "code",
   "execution_count": 144,
   "id": "28dbfec1",
   "metadata": {},
   "outputs": [
    {
     "name": "stdout",
     "output_type": "stream",
     "text": [
      "el número 3 apareix  2  vegades i el número 4 apareix  1  vegada\n"
     ]
    }
   ],
   "source": [
    "print('el número 3 apareix ',numeros.count(3),' vegades i el número 4 apareix ',numeros.count(4),' vegada')"
   ]
  },
  {
   "cell_type": "markdown",
   "id": "e51ed00b",
   "metadata": {},
   "source": [
    "+ Quin és el número més gran?"
   ]
  },
  {
   "cell_type": "code",
   "execution_count": 145,
   "id": "529463f6",
   "metadata": {},
   "outputs": [
    {
     "name": "stdout",
     "output_type": "stream",
     "text": [
      "el número més gran es el  80\n"
     ]
    }
   ],
   "source": [
    "max_number = max(numeros)\n",
    "print('el número més gran es el ',max_number)"
   ]
  },
  {
   "cell_type": "markdown",
   "id": "d974ca25",
   "metadata": {},
   "source": [
    "+ Quins són els 3 números més petits?"
   ]
  },
  {
   "cell_type": "code",
   "execution_count": 146,
   "id": "05d2c233",
   "metadata": {},
   "outputs": [
    {
     "name": "stdout",
     "output_type": "stream",
     "text": [
      "els tres números més petits son :  [1, 3, 3]\n"
     ]
    }
   ],
   "source": [
    "numeros.sort()\n",
    "print('els tres números més petits son : ', numeros[0:3])"
   ]
  },
  {
   "cell_type": "markdown",
   "id": "6d370ecb",
   "metadata": {},
   "source": [
    "+ Quin és el rang d’aquesta llista?"
   ]
  },
  {
   "cell_type": "code",
   "execution_count": 154,
   "id": "5e7a3d11",
   "metadata": {},
   "outputs": [
    {
     "data": {
      "text/plain": [
       "[1, 3, 3, 4, 5, 6, 7, 7, 9, 11, 17, 24, 49, 54, 80]"
      ]
     },
     "execution_count": 154,
     "metadata": {},
     "output_type": "execute_result"
    }
   ],
   "source": [
    "numeros[0:15]"
   ]
  },
  {
   "cell_type": "markdown",
   "id": "18cbe0c7",
   "metadata": {},
   "source": [
    "## Exercici 4:\n",
    "Crea un diccionari de la següent forma i respon a les preguntes:"
   ]
  },
  {
   "cell_type": "code",
   "execution_count": 148,
   "id": "7bcc2327",
   "metadata": {},
   "outputs": [],
   "source": [
    "compra = { \"Pomes\" : {\"Qty\": 5, \"€\": 0.42}, \"Peres\" : {\"Qty\": 3, \"€\": 0.66} }"
   ]
  },
  {
   "cell_type": "markdown",
   "id": "5ffe9199",
   "metadata": {},
   "source": [
    "   + Afegeix alguna fruita més"
   ]
  },
  {
   "cell_type": "code",
   "execution_count": 149,
   "id": "32d072d5",
   "metadata": {},
   "outputs": [],
   "source": [
    "compra[\"Maduixes\"] = { \"Qty\": 15, \"€\": 2.25}"
   ]
  },
  {
   "cell_type": "markdown",
   "id": "aeccba67",
   "metadata": {},
   "source": [
    "   + Quant han costat les peres en total?"
   ]
  },
  {
   "cell_type": "code",
   "execution_count": 150,
   "id": "b1a9cbf9",
   "metadata": {},
   "outputs": [
    {
     "name": "stdout",
     "output_type": "stream",
     "text": [
      "1.98\n"
     ]
    }
   ],
   "source": [
    "print(compra[\"Peres\"][\"Qty\"]*compra[\"Peres\"][\"€\"])"
   ]
  },
  {
   "cell_type": "markdown",
   "id": "b153e8f5",
   "metadata": {},
   "source": [
    "   + Quantes fruites hem comprat en total?"
   ]
  },
  {
   "cell_type": "code",
   "execution_count": 151,
   "id": "3f726cee",
   "metadata": {},
   "outputs": [
    {
     "name": "stdout",
     "output_type": "stream",
     "text": [
      "23\n"
     ]
    }
   ],
   "source": [
    "print(compra[\"Pomes\"][\"Qty\"]+compra[\"Peres\"][\"Qty\"]+compra[\"Maduixes\"][\"Qty\"])"
   ]
  },
  {
   "cell_type": "markdown",
   "id": "a9755958",
   "metadata": {},
   "source": [
    "   + Quina és la fruita més cara?"
   ]
  },
  {
   "cell_type": "code",
   "execution_count": 152,
   "id": "d0d8caa1",
   "metadata": {},
   "outputs": [
    {
     "name": "stdout",
     "output_type": "stream",
     "text": [
      "2.25\n"
     ]
    }
   ],
   "source": [
    "clave_mayor = max(compra[\"Pomes\"][\"€\"],compra[\"Peres\"][\"€\"],compra[\"Maduixes\"][\"€\"])\n",
    " \n",
    "print(clave_mayor)  "
   ]
  },
  {
   "cell_type": "code",
   "execution_count": null,
   "id": "ef7efe72",
   "metadata": {},
   "outputs": [],
   "source": []
  }
 ],
 "metadata": {
  "kernelspec": {
   "display_name": "Python 3 (ipykernel)",
   "language": "python",
   "name": "python3"
  },
  "language_info": {
   "codemirror_mode": {
    "name": "ipython",
    "version": 3
   },
   "file_extension": ".py",
   "mimetype": "text/x-python",
   "name": "python",
   "nbconvert_exporter": "python",
   "pygments_lexer": "ipython3",
   "version": "3.9.7"
  }
 },
 "nbformat": 4,
 "nbformat_minor": 5
}
